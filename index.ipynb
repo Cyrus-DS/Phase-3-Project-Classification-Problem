{
 "cells": [
  {
   "cell_type": "markdown",
   "metadata": {},
   "source": [
    "# 1.Business Understanding\n",
    "## Goal:\n",
    "### The goal of this project is to classify the severity of car crashes based on the various features such as \"POSTED_SPEED_LIMIT\",\"TRAFFIC_CONTROL_DEVICE\",\"DEVICE_CONDITION\",\"LIGHTING_CONDITION\",\"WEATHER_CONDITION\"\n",
    "### The possible classification task is to predict the severetiy of the crashes based on the extent of the damage to the car\n",
    "## Questions to answer are:\n",
    "### Can we predict the severity of a crash using the above mentioned features?\n",
    "### How do the features affect the severity of crashes?\n"
   ]
  },
  {
   "cell_type": "markdown",
   "metadata": {},
   "source": [
    "# 2.Data Understanding\n",
    "## Step 1-Loading and inspecting the data set"
   ]
  },
  {
   "cell_type": "code",
   "execution_count": 140,
   "metadata": {},
   "outputs": [],
   "source": [
    "# importing necessary library\n",
    "import pandas as pd"
   ]
  },
  {
   "cell_type": "code",
   "execution_count": 141,
   "metadata": {},
   "outputs": [
    {
     "data": {
      "text/html": [
       "<div>\n",
       "<style scoped>\n",
       "    .dataframe tbody tr th:only-of-type {\n",
       "        vertical-align: middle;\n",
       "    }\n",
       "\n",
       "    .dataframe tbody tr th {\n",
       "        vertical-align: top;\n",
       "    }\n",
       "\n",
       "    .dataframe thead th {\n",
       "        text-align: right;\n",
       "    }\n",
       "</style>\n",
       "<table border=\"1\" class=\"dataframe\">\n",
       "  <thead>\n",
       "    <tr style=\"text-align: right;\">\n",
       "      <th></th>\n",
       "      <th>CRASH_RECORD_ID</th>\n",
       "      <th>CRASH_DATE_EST_I</th>\n",
       "      <th>CRASH_DATE</th>\n",
       "      <th>POSTED_SPEED_LIMIT</th>\n",
       "      <th>TRAFFIC_CONTROL_DEVICE</th>\n",
       "      <th>DEVICE_CONDITION</th>\n",
       "      <th>WEATHER_CONDITION</th>\n",
       "      <th>LIGHTING_CONDITION</th>\n",
       "      <th>FIRST_CRASH_TYPE</th>\n",
       "      <th>TRAFFICWAY_TYPE</th>\n",
       "      <th>LANE_CNT</th>\n",
       "      <th>ALIGNMENT</th>\n",
       "      <th>ROADWAY_SURFACE_COND</th>\n",
       "      <th>ROAD_DEFECT</th>\n",
       "      <th>REPORT_TYPE</th>\n",
       "      <th>CRASH_TYPE</th>\n",
       "      <th>INTERSECTION_RELATED_I</th>\n",
       "      <th>NOT_RIGHT_OF_WAY_I</th>\n",
       "      <th>HIT_AND_RUN_I</th>\n",
       "      <th>DAMAGE</th>\n",
       "      <th>DATE_POLICE_NOTIFIED</th>\n",
       "      <th>PRIM_CONTRIBUTORY_CAUSE</th>\n",
       "      <th>SEC_CONTRIBUTORY_CAUSE</th>\n",
       "      <th>STREET_NO</th>\n",
       "      <th>STREET_DIRECTION</th>\n",
       "      <th>STREET_NAME</th>\n",
       "      <th>BEAT_OF_OCCURRENCE</th>\n",
       "      <th>PHOTOS_TAKEN_I</th>\n",
       "      <th>STATEMENTS_TAKEN_I</th>\n",
       "      <th>DOORING_I</th>\n",
       "      <th>WORK_ZONE_I</th>\n",
       "      <th>WORK_ZONE_TYPE</th>\n",
       "      <th>WORKERS_PRESENT_I</th>\n",
       "      <th>NUM_UNITS</th>\n",
       "      <th>MOST_SEVERE_INJURY</th>\n",
       "      <th>INJURIES_TOTAL</th>\n",
       "      <th>INJURIES_FATAL</th>\n",
       "      <th>INJURIES_INCAPACITATING</th>\n",
       "      <th>INJURIES_NON_INCAPACITATING</th>\n",
       "      <th>INJURIES_REPORTED_NOT_EVIDENT</th>\n",
       "      <th>INJURIES_NO_INDICATION</th>\n",
       "      <th>INJURIES_UNKNOWN</th>\n",
       "      <th>CRASH_HOUR</th>\n",
       "      <th>CRASH_DAY_OF_WEEK</th>\n",
       "      <th>CRASH_MONTH</th>\n",
       "      <th>LATITUDE</th>\n",
       "      <th>LONGITUDE</th>\n",
       "      <th>LOCATION</th>\n",
       "    </tr>\n",
       "  </thead>\n",
       "  <tbody>\n",
       "    <tr>\n",
       "      <th>0</th>\n",
       "      <td>6c1659069e9c6285a650e70d6f9b574ed5f64c12888479...</td>\n",
       "      <td>NaN</td>\n",
       "      <td>08/18/2023 12:50:00 PM</td>\n",
       "      <td>15</td>\n",
       "      <td>OTHER</td>\n",
       "      <td>FUNCTIONING PROPERLY</td>\n",
       "      <td>CLEAR</td>\n",
       "      <td>DAYLIGHT</td>\n",
       "      <td>REAR END</td>\n",
       "      <td>OTHER</td>\n",
       "      <td>NaN</td>\n",
       "      <td>STRAIGHT AND LEVEL</td>\n",
       "      <td>DRY</td>\n",
       "      <td>NO DEFECTS</td>\n",
       "      <td>ON SCENE</td>\n",
       "      <td>INJURY AND / OR TOW DUE TO CRASH</td>\n",
       "      <td>NaN</td>\n",
       "      <td>NaN</td>\n",
       "      <td>NaN</td>\n",
       "      <td>OVER $1,500</td>\n",
       "      <td>08/18/2023 12:55:00 PM</td>\n",
       "      <td>FOLLOWING TOO CLOSELY</td>\n",
       "      <td>DISTRACTION - FROM INSIDE VEHICLE</td>\n",
       "      <td>700</td>\n",
       "      <td>W</td>\n",
       "      <td>OHARE ST</td>\n",
       "      <td>1654.0</td>\n",
       "      <td>NaN</td>\n",
       "      <td>NaN</td>\n",
       "      <td>NaN</td>\n",
       "      <td>NaN</td>\n",
       "      <td>NaN</td>\n",
       "      <td>NaN</td>\n",
       "      <td>2</td>\n",
       "      <td>NONINCAPACITATING INJURY</td>\n",
       "      <td>1.0</td>\n",
       "      <td>0.0</td>\n",
       "      <td>0.0</td>\n",
       "      <td>1.0</td>\n",
       "      <td>0.0</td>\n",
       "      <td>1.0</td>\n",
       "      <td>0.0</td>\n",
       "      <td>12</td>\n",
       "      <td>6</td>\n",
       "      <td>8</td>\n",
       "      <td>NaN</td>\n",
       "      <td>NaN</td>\n",
       "      <td>NaN</td>\n",
       "    </tr>\n",
       "    <tr>\n",
       "      <th>1</th>\n",
       "      <td>5f54a59fcb087b12ae5b1acff96a3caf4f2d37e79f8db4...</td>\n",
       "      <td>NaN</td>\n",
       "      <td>07/29/2023 02:45:00 PM</td>\n",
       "      <td>30</td>\n",
       "      <td>TRAFFIC SIGNAL</td>\n",
       "      <td>FUNCTIONING PROPERLY</td>\n",
       "      <td>CLEAR</td>\n",
       "      <td>DAYLIGHT</td>\n",
       "      <td>PARKED MOTOR VEHICLE</td>\n",
       "      <td>DIVIDED - W/MEDIAN (NOT RAISED)</td>\n",
       "      <td>NaN</td>\n",
       "      <td>STRAIGHT AND LEVEL</td>\n",
       "      <td>DRY</td>\n",
       "      <td>NO DEFECTS</td>\n",
       "      <td>ON SCENE</td>\n",
       "      <td>NO INJURY / DRIVE AWAY</td>\n",
       "      <td>NaN</td>\n",
       "      <td>NaN</td>\n",
       "      <td>Y</td>\n",
       "      <td>OVER $1,500</td>\n",
       "      <td>07/29/2023 02:45:00 PM</td>\n",
       "      <td>FAILING TO REDUCE SPEED TO AVOID CRASH</td>\n",
       "      <td>OPERATING VEHICLE IN ERRATIC, RECKLESS, CARELE...</td>\n",
       "      <td>2101</td>\n",
       "      <td>S</td>\n",
       "      <td>ASHLAND AVE</td>\n",
       "      <td>1235.0</td>\n",
       "      <td>NaN</td>\n",
       "      <td>NaN</td>\n",
       "      <td>NaN</td>\n",
       "      <td>NaN</td>\n",
       "      <td>NaN</td>\n",
       "      <td>NaN</td>\n",
       "      <td>4</td>\n",
       "      <td>NO INDICATION OF INJURY</td>\n",
       "      <td>0.0</td>\n",
       "      <td>0.0</td>\n",
       "      <td>0.0</td>\n",
       "      <td>0.0</td>\n",
       "      <td>0.0</td>\n",
       "      <td>1.0</td>\n",
       "      <td>0.0</td>\n",
       "      <td>14</td>\n",
       "      <td>7</td>\n",
       "      <td>7</td>\n",
       "      <td>41.854120</td>\n",
       "      <td>-87.665902</td>\n",
       "      <td>POINT (-87.665902342962 41.854120262952)</td>\n",
       "    </tr>\n",
       "    <tr>\n",
       "      <th>2</th>\n",
       "      <td>61fcb8c1eb522a6469b460e2134df3d15f82e81fd93e9c...</td>\n",
       "      <td>NaN</td>\n",
       "      <td>08/18/2023 05:58:00 PM</td>\n",
       "      <td>30</td>\n",
       "      <td>NO CONTROLS</td>\n",
       "      <td>NO CONTROLS</td>\n",
       "      <td>CLEAR</td>\n",
       "      <td>DAYLIGHT</td>\n",
       "      <td>PEDALCYCLIST</td>\n",
       "      <td>NOT DIVIDED</td>\n",
       "      <td>NaN</td>\n",
       "      <td>STRAIGHT AND LEVEL</td>\n",
       "      <td>DRY</td>\n",
       "      <td>NO DEFECTS</td>\n",
       "      <td>ON SCENE</td>\n",
       "      <td>INJURY AND / OR TOW DUE TO CRASH</td>\n",
       "      <td>NaN</td>\n",
       "      <td>NaN</td>\n",
       "      <td>NaN</td>\n",
       "      <td>$501 - $1,500</td>\n",
       "      <td>08/18/2023 06:01:00 PM</td>\n",
       "      <td>FAILING TO REDUCE SPEED TO AVOID CRASH</td>\n",
       "      <td>UNABLE TO DETERMINE</td>\n",
       "      <td>3422</td>\n",
       "      <td>N</td>\n",
       "      <td>LONG AVE</td>\n",
       "      <td>1633.0</td>\n",
       "      <td>NaN</td>\n",
       "      <td>NaN</td>\n",
       "      <td>NaN</td>\n",
       "      <td>NaN</td>\n",
       "      <td>NaN</td>\n",
       "      <td>NaN</td>\n",
       "      <td>2</td>\n",
       "      <td>NONINCAPACITATING INJURY</td>\n",
       "      <td>1.0</td>\n",
       "      <td>0.0</td>\n",
       "      <td>0.0</td>\n",
       "      <td>1.0</td>\n",
       "      <td>0.0</td>\n",
       "      <td>1.0</td>\n",
       "      <td>0.0</td>\n",
       "      <td>17</td>\n",
       "      <td>6</td>\n",
       "      <td>8</td>\n",
       "      <td>41.942976</td>\n",
       "      <td>-87.761883</td>\n",
       "      <td>POINT (-87.761883496974 41.942975745006)</td>\n",
       "    </tr>\n",
       "    <tr>\n",
       "      <th>3</th>\n",
       "      <td>004cd14d0303a9163aad69a2d7f341b7da2a8572b2ab33...</td>\n",
       "      <td>NaN</td>\n",
       "      <td>11/26/2019 08:38:00 AM</td>\n",
       "      <td>25</td>\n",
       "      <td>NO CONTROLS</td>\n",
       "      <td>NO CONTROLS</td>\n",
       "      <td>CLEAR</td>\n",
       "      <td>DAYLIGHT</td>\n",
       "      <td>PEDESTRIAN</td>\n",
       "      <td>ONE-WAY</td>\n",
       "      <td>NaN</td>\n",
       "      <td>CURVE ON GRADE</td>\n",
       "      <td>DRY</td>\n",
       "      <td>NO DEFECTS</td>\n",
       "      <td>ON SCENE</td>\n",
       "      <td>INJURY AND / OR TOW DUE TO CRASH</td>\n",
       "      <td>NaN</td>\n",
       "      <td>NaN</td>\n",
       "      <td>NaN</td>\n",
       "      <td>OVER $1,500</td>\n",
       "      <td>11/26/2019 08:38:00 AM</td>\n",
       "      <td>UNABLE TO DETERMINE</td>\n",
       "      <td>NOT APPLICABLE</td>\n",
       "      <td>5</td>\n",
       "      <td>W</td>\n",
       "      <td>TERMINAL ST</td>\n",
       "      <td>1655.0</td>\n",
       "      <td>Y</td>\n",
       "      <td>Y</td>\n",
       "      <td>NaN</td>\n",
       "      <td>NaN</td>\n",
       "      <td>NaN</td>\n",
       "      <td>NaN</td>\n",
       "      <td>2</td>\n",
       "      <td>FATAL</td>\n",
       "      <td>1.0</td>\n",
       "      <td>1.0</td>\n",
       "      <td>0.0</td>\n",
       "      <td>0.0</td>\n",
       "      <td>0.0</td>\n",
       "      <td>1.0</td>\n",
       "      <td>0.0</td>\n",
       "      <td>8</td>\n",
       "      <td>3</td>\n",
       "      <td>11</td>\n",
       "      <td>NaN</td>\n",
       "      <td>NaN</td>\n",
       "      <td>NaN</td>\n",
       "    </tr>\n",
       "    <tr>\n",
       "      <th>4</th>\n",
       "      <td>a1d5f0ea90897745365a4cbb06cc60329a120d89753fac...</td>\n",
       "      <td>NaN</td>\n",
       "      <td>08/18/2023 10:45:00 AM</td>\n",
       "      <td>20</td>\n",
       "      <td>NO CONTROLS</td>\n",
       "      <td>NO CONTROLS</td>\n",
       "      <td>CLEAR</td>\n",
       "      <td>DAYLIGHT</td>\n",
       "      <td>FIXED OBJECT</td>\n",
       "      <td>OTHER</td>\n",
       "      <td>NaN</td>\n",
       "      <td>STRAIGHT AND LEVEL</td>\n",
       "      <td>DRY</td>\n",
       "      <td>NO DEFECTS</td>\n",
       "      <td>ON SCENE</td>\n",
       "      <td>NO INJURY / DRIVE AWAY</td>\n",
       "      <td>NaN</td>\n",
       "      <td>NaN</td>\n",
       "      <td>NaN</td>\n",
       "      <td>OVER $1,500</td>\n",
       "      <td>08/18/2023 10:48:00 AM</td>\n",
       "      <td>FOLLOWING TOO CLOSELY</td>\n",
       "      <td>DRIVING SKILLS/KNOWLEDGE/EXPERIENCE</td>\n",
       "      <td>3</td>\n",
       "      <td>W</td>\n",
       "      <td>TERMINAL ST</td>\n",
       "      <td>1653.0</td>\n",
       "      <td>NaN</td>\n",
       "      <td>NaN</td>\n",
       "      <td>NaN</td>\n",
       "      <td>NaN</td>\n",
       "      <td>NaN</td>\n",
       "      <td>NaN</td>\n",
       "      <td>1</td>\n",
       "      <td>NO INDICATION OF INJURY</td>\n",
       "      <td>0.0</td>\n",
       "      <td>0.0</td>\n",
       "      <td>0.0</td>\n",
       "      <td>0.0</td>\n",
       "      <td>0.0</td>\n",
       "      <td>1.0</td>\n",
       "      <td>0.0</td>\n",
       "      <td>10</td>\n",
       "      <td>6</td>\n",
       "      <td>8</td>\n",
       "      <td>NaN</td>\n",
       "      <td>NaN</td>\n",
       "      <td>NaN</td>\n",
       "    </tr>\n",
       "  </tbody>\n",
       "</table>\n",
       "</div>"
      ],
      "text/plain": [
       "                                     CRASH_RECORD_ID CRASH_DATE_EST_I  \\\n",
       "0  6c1659069e9c6285a650e70d6f9b574ed5f64c12888479...              NaN   \n",
       "1  5f54a59fcb087b12ae5b1acff96a3caf4f2d37e79f8db4...              NaN   \n",
       "2  61fcb8c1eb522a6469b460e2134df3d15f82e81fd93e9c...              NaN   \n",
       "3  004cd14d0303a9163aad69a2d7f341b7da2a8572b2ab33...              NaN   \n",
       "4  a1d5f0ea90897745365a4cbb06cc60329a120d89753fac...              NaN   \n",
       "\n",
       "               CRASH_DATE  POSTED_SPEED_LIMIT TRAFFIC_CONTROL_DEVICE  \\\n",
       "0  08/18/2023 12:50:00 PM                  15                  OTHER   \n",
       "1  07/29/2023 02:45:00 PM                  30         TRAFFIC SIGNAL   \n",
       "2  08/18/2023 05:58:00 PM                  30            NO CONTROLS   \n",
       "3  11/26/2019 08:38:00 AM                  25            NO CONTROLS   \n",
       "4  08/18/2023 10:45:00 AM                  20            NO CONTROLS   \n",
       "\n",
       "       DEVICE_CONDITION WEATHER_CONDITION LIGHTING_CONDITION  \\\n",
       "0  FUNCTIONING PROPERLY             CLEAR           DAYLIGHT   \n",
       "1  FUNCTIONING PROPERLY             CLEAR           DAYLIGHT   \n",
       "2           NO CONTROLS             CLEAR           DAYLIGHT   \n",
       "3           NO CONTROLS             CLEAR           DAYLIGHT   \n",
       "4           NO CONTROLS             CLEAR           DAYLIGHT   \n",
       "\n",
       "       FIRST_CRASH_TYPE                  TRAFFICWAY_TYPE  LANE_CNT  \\\n",
       "0              REAR END                            OTHER       NaN   \n",
       "1  PARKED MOTOR VEHICLE  DIVIDED - W/MEDIAN (NOT RAISED)       NaN   \n",
       "2          PEDALCYCLIST                      NOT DIVIDED       NaN   \n",
       "3            PEDESTRIAN                          ONE-WAY       NaN   \n",
       "4          FIXED OBJECT                            OTHER       NaN   \n",
       "\n",
       "            ALIGNMENT ROADWAY_SURFACE_COND ROAD_DEFECT REPORT_TYPE  \\\n",
       "0  STRAIGHT AND LEVEL                  DRY  NO DEFECTS    ON SCENE   \n",
       "1  STRAIGHT AND LEVEL                  DRY  NO DEFECTS    ON SCENE   \n",
       "2  STRAIGHT AND LEVEL                  DRY  NO DEFECTS    ON SCENE   \n",
       "3      CURVE ON GRADE                  DRY  NO DEFECTS    ON SCENE   \n",
       "4  STRAIGHT AND LEVEL                  DRY  NO DEFECTS    ON SCENE   \n",
       "\n",
       "                         CRASH_TYPE INTERSECTION_RELATED_I NOT_RIGHT_OF_WAY_I  \\\n",
       "0  INJURY AND / OR TOW DUE TO CRASH                    NaN                NaN   \n",
       "1            NO INJURY / DRIVE AWAY                    NaN                NaN   \n",
       "2  INJURY AND / OR TOW DUE TO CRASH                    NaN                NaN   \n",
       "3  INJURY AND / OR TOW DUE TO CRASH                    NaN                NaN   \n",
       "4            NO INJURY / DRIVE AWAY                    NaN                NaN   \n",
       "\n",
       "  HIT_AND_RUN_I         DAMAGE    DATE_POLICE_NOTIFIED  \\\n",
       "0           NaN    OVER $1,500  08/18/2023 12:55:00 PM   \n",
       "1             Y    OVER $1,500  07/29/2023 02:45:00 PM   \n",
       "2           NaN  $501 - $1,500  08/18/2023 06:01:00 PM   \n",
       "3           NaN    OVER $1,500  11/26/2019 08:38:00 AM   \n",
       "4           NaN    OVER $1,500  08/18/2023 10:48:00 AM   \n",
       "\n",
       "                  PRIM_CONTRIBUTORY_CAUSE  \\\n",
       "0                   FOLLOWING TOO CLOSELY   \n",
       "1  FAILING TO REDUCE SPEED TO AVOID CRASH   \n",
       "2  FAILING TO REDUCE SPEED TO AVOID CRASH   \n",
       "3                     UNABLE TO DETERMINE   \n",
       "4                   FOLLOWING TOO CLOSELY   \n",
       "\n",
       "                              SEC_CONTRIBUTORY_CAUSE  STREET_NO  \\\n",
       "0                  DISTRACTION - FROM INSIDE VEHICLE        700   \n",
       "1  OPERATING VEHICLE IN ERRATIC, RECKLESS, CARELE...       2101   \n",
       "2                                UNABLE TO DETERMINE       3422   \n",
       "3                                     NOT APPLICABLE          5   \n",
       "4                DRIVING SKILLS/KNOWLEDGE/EXPERIENCE          3   \n",
       "\n",
       "  STREET_DIRECTION  STREET_NAME  BEAT_OF_OCCURRENCE PHOTOS_TAKEN_I  \\\n",
       "0                W     OHARE ST              1654.0            NaN   \n",
       "1                S  ASHLAND AVE              1235.0            NaN   \n",
       "2                N     LONG AVE              1633.0            NaN   \n",
       "3                W  TERMINAL ST              1655.0              Y   \n",
       "4                W  TERMINAL ST              1653.0            NaN   \n",
       "\n",
       "  STATEMENTS_TAKEN_I DOORING_I WORK_ZONE_I WORK_ZONE_TYPE WORKERS_PRESENT_I  \\\n",
       "0                NaN       NaN         NaN            NaN               NaN   \n",
       "1                NaN       NaN         NaN            NaN               NaN   \n",
       "2                NaN       NaN         NaN            NaN               NaN   \n",
       "3                  Y       NaN         NaN            NaN               NaN   \n",
       "4                NaN       NaN         NaN            NaN               NaN   \n",
       "\n",
       "   NUM_UNITS        MOST_SEVERE_INJURY  INJURIES_TOTAL  INJURIES_FATAL  \\\n",
       "0          2  NONINCAPACITATING INJURY             1.0             0.0   \n",
       "1          4   NO INDICATION OF INJURY             0.0             0.0   \n",
       "2          2  NONINCAPACITATING INJURY             1.0             0.0   \n",
       "3          2                     FATAL             1.0             1.0   \n",
       "4          1   NO INDICATION OF INJURY             0.0             0.0   \n",
       "\n",
       "   INJURIES_INCAPACITATING  INJURIES_NON_INCAPACITATING  \\\n",
       "0                      0.0                          1.0   \n",
       "1                      0.0                          0.0   \n",
       "2                      0.0                          1.0   \n",
       "3                      0.0                          0.0   \n",
       "4                      0.0                          0.0   \n",
       "\n",
       "   INJURIES_REPORTED_NOT_EVIDENT  INJURIES_NO_INDICATION  INJURIES_UNKNOWN  \\\n",
       "0                            0.0                     1.0               0.0   \n",
       "1                            0.0                     1.0               0.0   \n",
       "2                            0.0                     1.0               0.0   \n",
       "3                            0.0                     1.0               0.0   \n",
       "4                            0.0                     1.0               0.0   \n",
       "\n",
       "   CRASH_HOUR  CRASH_DAY_OF_WEEK  CRASH_MONTH   LATITUDE  LONGITUDE  \\\n",
       "0          12                  6            8        NaN        NaN   \n",
       "1          14                  7            7  41.854120 -87.665902   \n",
       "2          17                  6            8  41.942976 -87.761883   \n",
       "3           8                  3           11        NaN        NaN   \n",
       "4          10                  6            8        NaN        NaN   \n",
       "\n",
       "                                   LOCATION  \n",
       "0                                       NaN  \n",
       "1  POINT (-87.665902342962 41.854120262952)  \n",
       "2  POINT (-87.761883496974 41.942975745006)  \n",
       "3                                       NaN  \n",
       "4                                       NaN  "
      ]
     },
     "execution_count": 141,
     "metadata": {},
     "output_type": "execute_result"
    }
   ],
   "source": [
    "#reading from data set\n",
    "pd.set_option('display.max_columns', None)# Display option to show all columns\n",
    "df = pd.read_csv(\"Traffic_crashes.csv\")\n",
    "df.head()"
   ]
  },
  {
   "cell_type": "code",
   "execution_count": 142,
   "metadata": {},
   "outputs": [
    {
     "data": {
      "text/plain": [
       "OVER $1,500      568701\n",
       "$501 - $1,500    232832\n",
       "$500 OR LESS     101226\n",
       "Name: DAMAGE, dtype: int64"
      ]
     },
     "execution_count": 142,
     "metadata": {},
     "output_type": "execute_result"
    }
   ],
   "source": [
    "#To check the counts for this particular column\n",
    "df[\"DAMAGE\"].value_counts()"
   ]
  },
  {
   "cell_type": "code",
   "execution_count": 143,
   "metadata": {},
   "outputs": [],
   "source": [
    "#To limit the value of the columns to only two values\n",
    "value_1 = '$500 OR LESS' \n",
    "value_2 = 'OVER $1,500'\n",
    "\n",
    "df_filtered = df[df['DAMAGE'].isin([value_1, value_2])]"
   ]
  },
  {
   "cell_type": "code",
   "execution_count": 144,
   "metadata": {},
   "outputs": [
    {
     "data": {
      "text/plain": [
       "OVER $1,500     568701\n",
       "$500 OR LESS    101226\n",
       "Name: DAMAGE, dtype: int64"
      ]
     },
     "execution_count": 144,
     "metadata": {},
     "output_type": "execute_result"
    }
   ],
   "source": [
    "df_filtered[\"DAMAGE\"].value_counts()"
   ]
  },
  {
   "cell_type": "code",
   "execution_count": 145,
   "metadata": {},
   "outputs": [],
   "source": [
    "#Selecting only relevant columns\n",
    "new_df = df_filtered[[\"POSTED_SPEED_LIMIT\",\"TRAFFIC_CONTROL_DEVICE\",\"DEVICE_CONDITION\",\"LIGHTING_CONDITION\",\"WEATHER_CONDITION\",\"DAMAGE\"]]"
   ]
  },
  {
   "cell_type": "code",
   "execution_count": 146,
   "metadata": {},
   "outputs": [
    {
     "name": "stdout",
     "output_type": "stream",
     "text": [
      "Shape of Dataset is (669927, 6)\n"
     ]
    }
   ],
   "source": [
    "#Inspecting the rows and columns of the Dataframe\n",
    "print(\"Shape of Dataset is\", new_df.shape)"
   ]
  },
  {
   "cell_type": "code",
   "execution_count": 147,
   "metadata": {},
   "outputs": [
    {
     "name": "stdout",
     "output_type": "stream",
     "text": [
      "<class 'pandas.core.frame.DataFrame'>\n",
      "Int64Index: 669927 entries, 0 to 902758\n",
      "Data columns (total 6 columns):\n",
      " #   Column                  Non-Null Count   Dtype \n",
      "---  ------                  --------------   ----- \n",
      " 0   POSTED_SPEED_LIMIT      669927 non-null  int64 \n",
      " 1   TRAFFIC_CONTROL_DEVICE  669927 non-null  object\n",
      " 2   DEVICE_CONDITION        669927 non-null  object\n",
      " 3   LIGHTING_CONDITION      669927 non-null  object\n",
      " 4   WEATHER_CONDITION       669927 non-null  object\n",
      " 5   DAMAGE                  669927 non-null  object\n",
      "dtypes: int64(1), object(5)\n",
      "memory usage: 35.8+ MB\n"
     ]
    }
   ],
   "source": [
    "#Inspecting the dataset structure\n",
    "new_df.info()"
   ]
  },
  {
   "cell_type": "code",
   "execution_count": 148,
   "metadata": {},
   "outputs": [
    {
     "name": "stdout",
     "output_type": "stream",
     "text": [
      "       POSTED_SPEED_LIMIT\n",
      "count       669927.000000\n",
      "mean            28.546731\n",
      "std              6.037153\n",
      "min              0.000000\n",
      "25%             30.000000\n",
      "50%             30.000000\n",
      "75%             30.000000\n",
      "max             99.000000\n"
     ]
    }
   ],
   "source": [
    "#Summary statistics for numerical columns\n",
    "print(new_df.describe())"
   ]
  },
  {
   "cell_type": "code",
   "execution_count": 149,
   "metadata": {},
   "outputs": [
    {
     "name": "stdout",
     "output_type": "stream",
     "text": [
      "POSTED_SPEED_LIMIT        0\n",
      "TRAFFIC_CONTROL_DEVICE    0\n",
      "DEVICE_CONDITION          0\n",
      "LIGHTING_CONDITION        0\n",
      "WEATHER_CONDITION         0\n",
      "DAMAGE                    0\n",
      "dtype: int64\n"
     ]
    }
   ],
   "source": [
    "#Check for missing values\n",
    "print(new_df.isnull().sum())"
   ]
  },
  {
   "cell_type": "markdown",
   "metadata": {},
   "source": [
    "## Step 2-Check for missing Data\n",
    "### We hanle the missing data by removing or imputing based on the missing values"
   ]
  },
  {
   "cell_type": "code",
   "execution_count": 150,
   "metadata": {},
   "outputs": [
    {
     "data": {
      "text/plain": [
       "POSTED_SPEED_LIMIT        0\n",
       "TRAFFIC_CONTROL_DEVICE    0\n",
       "DEVICE_CONDITION          0\n",
       "LIGHTING_CONDITION        0\n",
       "WEATHER_CONDITION         0\n",
       "DAMAGE                    0\n",
       "dtype: int64"
      ]
     },
     "execution_count": 150,
     "metadata": {},
     "output_type": "execute_result"
    }
   ],
   "source": [
    "#Remove missing values\n",
    "new_df1 = new_df.dropna()\n",
    "#Check for missing values again\n",
    "new_df1.isnull().sum()"
   ]
  },
  {
   "cell_type": "code",
   "execution_count": 151,
   "metadata": {},
   "outputs": [
    {
     "name": "stdout",
     "output_type": "stream",
     "text": [
      "Shape of Dataset is (669927, 6)\n"
     ]
    }
   ],
   "source": [
    "print(\"Shape of Dataset is\", new_df1.shape)"
   ]
  },
  {
   "cell_type": "markdown",
   "metadata": {},
   "source": [
    "# 3.Data Preperation\n",
    "## Step 1-Encoding Categorical Features\n",
    "### We have categorical columns like WEATHER_CONDITION,TRAFFIC_CONTROL_DEVICE,DEVICE_CONDITION & LIGHTING_CONDITION that need to be converted to numerical features using One-hot Encoding"
   ]
  },
  {
   "cell_type": "code",
   "execution_count": 152,
   "metadata": {},
   "outputs": [],
   "source": [
    "from sklearn.preprocessing import OneHotEncoder\n",
    "#One-hot encoding yhe categorical columns\n",
    "new_df1 = pd.get_dummies(new_df1, columns=[\"WEATHER_CONDITION\",\"TRAFFIC_CONTROL_DEVICE\",\"DEVICE_CONDITION\",\"LIGHTING_CONDITION\"], drop_first=True, dtype=int)"
   ]
  },
  {
   "cell_type": "markdown",
   "metadata": {},
   "source": [
    "## Step 2-Split the Data into Training & Testing Sets"
   ]
  },
  {
   "cell_type": "code",
   "execution_count": 153,
   "metadata": {},
   "outputs": [],
   "source": [
    "from sklearn.model_selection import train_test_split\n",
    "\n",
    "#Define features(X) & target variables(y)\n",
    "y = new_df1[\"DAMAGE\"]\n",
    "X = new_df1.drop(columns=\"DAMAGE\")\n",
    "\n",
    "#Split data into training and testing sets(split is 80-20)\n",
    "X_train, X_test, y_train, y_test = train_test_split(X, y, test_size=0.2, random_state=0)"
   ]
  },
  {
   "cell_type": "markdown",
   "metadata": {},
   "source": [
    "## Step 3-Feature scaling\n",
    "### Standardize numerical features \n"
   ]
  },
  {
   "cell_type": "code",
   "execution_count": 154,
   "metadata": {},
   "outputs": [],
   "source": [
    "from sklearn.preprocessing import StandardScaler\n",
    "\n",
    "#Instantiate the model\n",
    "scaler = StandardScaler()\n",
    "#Fit the model\n",
    "X_train_scaled = scaler.fit_transform(X_train)\n",
    "X_test_scaled = scaler.fit_transform(X_test)"
   ]
  },
  {
   "cell_type": "markdown",
   "metadata": {},
   "source": [
    "# 4.Modeling -Logistic regsression\n",
    "## Step 1-Build a baseline model"
   ]
  },
  {
   "cell_type": "code",
   "execution_count": 155,
   "metadata": {},
   "outputs": [
    {
     "name": "stderr",
     "output_type": "stream",
     "text": [
      "c:\\Users\\Cyrus\\anaconda3\\envs\\learn-env\\lib\\site-packages\\sklearn\\metrics\\_classification.py:1221: UndefinedMetricWarning: Precision and F-score are ill-defined and being set to 0.0 in labels with no predicted samples. Use `zero_division` parameter to control this behavior.\n",
      "  _warn_prf(average, modifier, msg_start, len(result))\n"
     ]
    },
    {
     "name": "stdout",
     "output_type": "stream",
     "text": [
      "              precision    recall  f1-score   support\n",
      "\n",
      "$500 OR LESS       0.00      0.00      0.00     20265\n",
      " OVER $1,500       0.85      1.00      0.92    113721\n",
      "\n",
      "    accuracy                           0.85    133986\n",
      "   macro avg       0.42      0.50      0.46    133986\n",
      "weighted avg       0.72      0.85      0.78    133986\n",
      "\n",
      "[[     0  20265]\n",
      " [     0 113721]]\n"
     ]
    }
   ],
   "source": [
    "from sklearn.linear_model import LogisticRegression\n",
    "from sklearn.metrics import classification_report, confusion_matrix\n",
    "\n",
    "#initialize Logistic Regression model\n",
    "log_reg_model = LogisticRegression(max_iter=1000, random_state=0)\n",
    "\n",
    "#Train logistic Regression model\n",
    "log_reg_model.fit(X_train_scaled, y_train)\n",
    "\n",
    "#make predicitions on the test set\n",
    "y_pred_log_reg = log_reg_model.predict(X_test_scaled)\n",
    "\n",
    "#Evaluate the model\n",
    "print(classification_report(y_test, y_pred_log_reg))\n",
    "\n",
    "#Confusion matrix\n",
    "print(confusion_matrix(y_test, y_pred_log_reg))"
   ]
  },
  {
   "cell_type": "markdown",
   "metadata": {},
   "source": [
    "## Findings\n",
    "### The primary issue with the model is its failure to detect \"Minor Severity\" crashes. The model appears to be biased toward predicting the more prevalent class (severe crashes), which results in very poor performance for the minority class. This behavior is common in imbalanced datasets, where models tend to favor the majority class."
   ]
  },
  {
   "cell_type": "markdown",
   "metadata": {},
   "source": [
    "## Step 2-model evaluation\n",
    "### After training the model, evaluate perfromance using classification report & confusion matrix.This helps to provide insight on how well the model does its prediction for \"fatal\" and \"non fatal\" crashes"
   ]
  },
  {
   "cell_type": "code",
   "execution_count": 156,
   "metadata": {},
   "outputs": [
    {
     "name": "stdout",
     "output_type": "stream",
     "text": [
      "Accuracy: 0.85\n"
     ]
    }
   ],
   "source": [
    "from sklearn.metrics import accuracy_score\n",
    "\n",
    "accuracy = accuracy_score(y_test, y_pred_log_reg)\n",
    "\n",
    "print(f\"Accuracy: {accuracy:.2f}\")"
   ]
  },
  {
   "cell_type": "markdown",
   "metadata": {},
   "source": [
    "## Step 3-Visualize the confusion Matrix\n",
    "### We visualize to understand how well the model is performing in distinguishing between classes"
   ]
  },
  {
   "cell_type": "code",
   "execution_count": 157,
   "metadata": {},
   "outputs": [
    {
     "data": {
      "image/png": "[encoded data removed]",
      "text/plain": [
       "<Figure size 432x288 with 2 Axes>"
      ]
     },
     "metadata": {
      "needs_background": "light"
     },
     "output_type": "display_data"
    }
   ],
   "source": [
    "import seaborn as sns\n",
    "import matplotlib.pyplot as plt\n",
    "\n",
    "#Confusion Matrix\n",
    "conf_matrix = confusion_matrix(y_test, y_pred_log_reg)\n",
    "\n",
    "#Heatmap visualization\n",
    "sns.heatmap(conf_matrix, annot=True, fmt=\"d\", cmap=\"Blues\", xticklabels=[\"Not-severe\", \"Severe\"], yticklabels=[\"Not-severe\",\"Severe\"])\n",
    "plt.title(\"Confusion Matrix for Logistic regression\")\n",
    "plt.xlabel(\"Predicted\")\n",
    "plt.ylabel(\"Actual\")\n",
    "plt.show()"
   ]
  },
  {
   "cell_type": "markdown",
   "metadata": {},
   "source": [
    "## Step 4-Model improvement\n",
    "### We do this by handling Class Imbalances"
   ]
  },
  {
   "cell_type": "code",
   "execution_count": 159,
   "metadata": {},
   "outputs": [
    {
     "name": "stdout",
     "output_type": "stream",
     "text": [
      "Classification Report for Weighted Logistic Regression:\n",
      "              precision    recall  f1-score   support\n",
      "\n",
      "$500 OR LESS       0.17      0.65      0.28     20265\n",
      " OVER $1,500       0.88      0.45      0.59    113721\n",
      "\n",
      "    accuracy                           0.48    133986\n",
      "   macro avg       0.53      0.55      0.44    133986\n",
      "weighted avg       0.77      0.48      0.55    133986\n",
      "\n"
     ]
    }
   ],
   "source": [
    "# Initialize Logistic Regression with class weights\n",
    "log_reg_model_weighted = LogisticRegression(max_iter=1000, random_state=42, class_weight='balanced')\n",
    "\n",
    "# Train the model\n",
    "log_reg_model_weighted.fit(X_train_scaled, y_train)\n",
    "\n",
    "# Predict and evaluate\n",
    "y_pred_weighted = log_reg_model_weighted.predict(X_test_scaled)\n",
    "print(\"Classification Report for Weighted Logistic Regression:\")\n",
    "print(classification_report(y_test, y_pred_weighted))\n"
   ]
  },
  {
   "cell_type": "markdown",
   "metadata": {},
   "source": [
    "\n",
    "## Findings for Weighted Logistic Regression Model\n",
    "### The performance of the weighted Logistic Regression model has shown improvement compared to the initial model, but there are still significant issues with classification performance due to the class imbalance.\n",
    "### For instance, on Accuracy socre, the model achieves an accuracy of 48%, which is lower than the initial model’s 85%. This is mainly because of the class imbalance, where the majority class (\"OVER $1,500\") dominates the predictions.\n",
    "## Recommendation & improvement\n",
    "### Consider ensemble methods like Random Forest, Gradient Boosting, or XGBoost. These models can handle class imbalance better and may provide better performance, especially in terms of recall for the minority class."
   ]
  },
  {
   "cell_type": "markdown",
   "metadata": {},
   "source": [
    "# 4.1.Modeling -RandomForest\n",
    "## Step 1-Build a model to compare with Logistic regression model"
   ]
  },
  {
   "cell_type": "code",
   "execution_count": 165,
   "metadata": {},
   "outputs": [
    {
     "name": "stdout",
     "output_type": "stream",
     "text": [
      "              precision    recall  f1-score   support\n",
      "\n",
      "$500 OR LESS       0.18      0.61      0.27     20265\n",
      " OVER $1,500       0.88      0.49      0.63    113721\n",
      "\n",
      "    accuracy                           0.51    133986\n",
      "   macro avg       0.53      0.55      0.45    133986\n",
      "weighted avg       0.77      0.51      0.57    133986\n",
      "\n",
      "[[12367  7898]\n",
      " [57981 55740]]\n"
     ]
    }
   ],
   "source": [
    "from sklearn.ensemble import RandomForestClassifier\n",
    "from sklearn.metrics import classification_report, confusion_matrix\n",
    "\n",
    "# Initialize and train a RandomForest model\n",
    "rf_model = RandomForestClassifier(random_state=42, class_weight='balanced')\n",
    "rf_model.fit(X_train_scaled, y_train)\n",
    "\n",
    "# Predictions\n",
    "y_pred = rf_model.predict(X_test_scaled)\n",
    "\n",
    "# Evaluate the model\n",
    "print(classification_report(y_test, y_pred))\n",
    "print(confusion_matrix(y_test, y_pred))\n"
   ]
  },
  {
   "cell_type": "markdown",
   "metadata": {},
   "source": [
    "## Step 2-Evaluating the model\n",
    "### We look at the various metric to evalaute the model"
   ]
  },
  {
   "cell_type": "code",
   "execution_count": 166,
   "metadata": {},
   "outputs": [
    {
     "name": "stdout",
     "output_type": "stream",
     "text": [
      "Accuracy: 0.51\n"
     ]
    }
   ],
   "source": [
    "from sklearn.metrics import accuracy_score\n",
    "\n",
    "# Accuracy score\n",
    "accuracy = accuracy_score(y_test, y_pred)\n",
    "print(f\"Accuracy: {accuracy:.2f}\")\n"
   ]
  },
  {
   "cell_type": "markdown",
   "metadata": {},
   "source": [
    "## Step 3-Visualize the confusion Matrix\n",
    "### We visualize to understand how well the model is performing in distinguishing between classes"
   ]
  },
  {
   "cell_type": "code",
   "execution_count": 167,
   "metadata": {},
   "outputs": [
    {
     "data": {
      "image/png": "[encoded data removed]",
      "text/plain": [
       "<Figure size 432x288 with 2 Axes>"
      ]
     },
     "metadata": {
      "needs_background": "light"
     },
     "output_type": "display_data"
    }
   ],
   "source": [
    "import seaborn as sns\n",
    "\n",
    "# Plot confusion matrix for better visualization\n",
    "conf_matrix = confusion_matrix(y_test, y_pred)\n",
    "sns.heatmap(conf_matrix, annot=True, fmt='d', cmap='Blues', xticklabels=['Non-severe', 'Severe'], yticklabels=['Non-severe', 'Severe'])\n",
    "plt.title(\"Confusion Matrix\")\n",
    "plt.xlabel(\"Predicted\")\n",
    "plt.ylabel(\"Actual\")\n",
    "plt.show()\n"
   ]
  },
  {
   "cell_type": "markdown",
   "metadata": {},
   "source": [
    "\n",
    "## Findings for Weighted Logistic Regression Model\n",
    "### The performance of the RandomForest model has shown improvement compared to the logistic fegression model, but there are still significant issues with classification performance due to the class imbalance.\n",
    "### If we were to choose between the two models, then RandomForest model would be more ideal.\n",
    "### Consider ensemble methods like Gradient Boosting, or XGBoost. These models can handle class imbalance better and may provide better performance, especially in terms of recall for the minority class."
   ]
  },
  {
   "cell_type": "markdown",
   "metadata": {},
   "source": []
  }
 ],
 "metadata": {
  "kernelspec": {
   "display_name": "learn-env",
   "language": "python",
   "name": "python3"
  },
  "language_info": {
   "codemirror_mode": {
    "name": "ipython",
    "version": 3
   },
   "file_extension": ".py",
   "mimetype": "text/x-python",
   "name": "python",
   "nbconvert_exporter": "python",
   "pygments_lexer": "ipython3",
   "version": "3.8.5"
  }
 },
 "nbformat": 4,
 "nbformat_minor": 2
}
